{
  "cells": [
    {
      "cell_type": "markdown",
      "source": [
        "##**Stack Questions**"
      ],
      "metadata": {
        "id": "cP32wAV3Yi-4"
      }
    },
    {
      "cell_type": "markdown",
      "source": [
        "## Question 1: Write a function to sort a stack."
      ],
      "metadata": {
        "id": "KqdNjm1oY_ss"
      }
    },
    {
      "cell_type": "code",
      "source": [
        "def sort_stack(stack):\n",
        "  \"\"\"\n",
        "  Create a temp stack to orgnizate the stack while deleting the numbers in the stack. Using the order in the temp stack to add the number back in the sorted order\n",
        "  \"\"\"\n",
        "  temp_stack = []\n",
        "\n",
        "  while stack:\n",
        "    selected_num = stack.pop()\n",
        "\n",
        "    while temp_stack and temp_stack[-1] > selected_num:\n",
        "      stack.append(temp_stack.pop())\n",
        "    temp_stack.append(selected_num)\n",
        "\n",
        "  while temp_stack:\n",
        "    stack.append(temp_stack.pop())\n",
        "\n",
        "  return stack\n",
        "\n",
        "stack = [34, 3, 31, 98, 92, 23]\n",
        "print(sort_stack(stack))\n",
        "\n",
        "'''\n",
        "\n",
        "\n",
        "'''"
      ],
      "metadata": {
        "id": "mb9K46p3Ym0N",
        "colab": {
          "base_uri": "https://localhost:8080/"
        },
        "outputId": "01ff43ed-adf4-4fcd-fe97-2b3c2d3e4d28"
      },
      "execution_count": null,
      "outputs": [
        {
          "output_type": "stream",
          "name": "stdout",
          "text": [
            "[98, 92, 34, 31, 23, 3]\n"
          ]
        }
      ]
    },
    {
      "cell_type": "markdown",
      "metadata": {
        "id": "jFxb6ss_Whwl"
      },
      "source": [
        "## Question 2: Depict the following image as a list.\n",
        "\n",
        "<img src=\"https://miro.medium.com/max/1050/1*XifPIMxbamGKhz5UAEdz2w.png\">\n",
        "\n",
        "#### Queue\n",
        "1. Add the number 9 to the list.\n",
        "2. Remove the first number (7) from the list.\n",
        "\n",
        "#### Stack\n",
        "3. Add the number 4 to the same list.\n",
        "4. Remove the last number added (4) from the list."
      ]
    },
    {
      "cell_type": "code",
      "execution_count": null,
      "metadata": {
        "id": "XOm7YLTEWhwm"
      },
      "outputs": [],
      "source": [
        "#Your Answer:\n",
        "# 1. [7, 3, 1, 6, 8 , 9]\n",
        "# 2. [3, 1, 6, 8, 9]\n",
        "# 3. [3, 1, 5, 8, 9, 4]\n",
        "# 4. [3, 1, 5, 8, 9]"
      ]
    },
    {
      "cell_type": "markdown",
      "metadata": {
        "id": "tQ3kgHVtWhwn"
      },
      "source": [
        "#### Question 3: Nodes\n",
        "\n",
        "<img src=\"https://encrypted-tbn0.gstatic.com/images?q=tbn:ANd9GcQW8-twGk0hCILE-muHBnG93hZJh2Qvgs7pVA&s\">\n",
        "\n",
        "1. Use a data structure of your choice to denote the different nodes.\n",
        "\n",
        "2. Create a function that sums all of the \"children\". Test with the node 10 (Expected answer is 37).\n"
      ]
    },
    {
      "cell_type": "code",
      "execution_count": null,
      "metadata": {
        "id": "UU0rjzjXWhwn",
        "colab": {
          "base_uri": "https://localhost:8080/"
        },
        "outputId": "bd466e63-154e-4964-b1d0-d0570e5b23cb"
      },
      "outputs": [
        {
          "output_type": "execute_result",
          "data": {
            "text/plain": [
              "37"
            ]
          },
          "metadata": {},
          "execution_count": 4
        }
      ],
      "source": [
        "#Your Answer:\n",
        "\n",
        "nodes_structure = {\n",
        "          8 : [10, 3],\n",
        "          3 : [6, 1],\n",
        "          10 : [14],\n",
        "          6 : [4, 7],\n",
        "          14: [13]\n",
        "}\n",
        "\n",
        "def sum_children(nodes):\n",
        "  node_sum = []\n",
        "  temp_list = [nodes]\n",
        "  sum_of_nodes = 0\n",
        "\n",
        "  while len(temp_list) != 0:\n",
        "    current_node = temp_list.pop(0)\n",
        "    current_node_children = nodes_structure.get(current_node, [])\n",
        "    temp_list.extend (current_node_children)\n",
        "    node_sum.append(current_node)\n",
        "\n",
        "  for i in node_sum:\n",
        "    sum_of_nodes = sum_of_nodes + i\n",
        "\n",
        "  return sum_of_nodes\n",
        "\n",
        "sum_children(10)"
      ]
    }
  ],
  "metadata": {
    "hide_input": false,
    "kernelspec": {
      "display_name": "Python 3",
      "language": "python",
      "name": "python3"
    },
    "language_info": {
      "codemirror_mode": {
        "name": "ipython",
        "version": 3
      },
      "file_extension": ".py",
      "mimetype": "text/x-python",
      "name": "python",
      "nbconvert_exporter": "python",
      "pygments_lexer": "ipython3",
      "version": "3.8.3"
    },
    "toc": {
      "base_numbering": 1,
      "nav_menu": {},
      "number_sections": true,
      "sideBar": true,
      "skip_h1_title": false,
      "title_cell": "Table of Contents",
      "title_sidebar": "Contents",
      "toc_cell": false,
      "toc_position": {},
      "toc_section_display": true,
      "toc_window_display": false
    },
    "colab": {
      "provenance": []
    }
  },
  "nbformat": 4,
  "nbformat_minor": 0
}