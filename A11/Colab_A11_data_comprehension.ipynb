{
  "cells": [
    {
      "cell_type": "markdown",
      "source": [
        "# Data comprehension\n",
        "Practice working with list comprehension, dictionary comprehension and set comprehension following Lec 11"
      ],
      "metadata": {
        "id": "-ZHVRHMui18N"
      }
    },
    {
      "cell_type": "markdown",
      "metadata": {
        "id": "INt5QZg_yTgG"
      },
      "source": [
        "**Ques 1:**\n",
        "You are given the list below, make column 0(the words) the key for a dictionary with the values as the rest of the list.\n",
        "\n",
        "```\n",
        "list_pos = [\n",
        "    ['drawer', 141, 2, 3],\n",
        "    ['hedge', 213, 1, 6],\n",
        "    ['pantry', 328, 1, 7]\n",
        "]\n",
        "\n",
        "list_pos\n",
        "\n",
        "# You output should be:\n",
        "\n",
        "{'drawer': [141, 2, 3], 'hedge': [213, 1, 6], 'pantry': [328, 1, 7]}\n",
        "\n",
        "```\n",
        "\n",
        "Requirement: Do both traditional loops and list comprehensions.\n"
      ]
    },
    {
      "cell_type": "code",
      "execution_count": null,
      "metadata": {
        "colab": {
          "base_uri": "https://localhost:8080/"
        },
        "id": "dX7uE78eyTgD",
        "outputId": "7d7c664e-2278-486d-ef60-c2547cea0e10"
      },
      "outputs": [
        {
          "output_type": "execute_result",
          "data": {
            "text/plain": [
              "[['drawer', 141, 2, 3], ['hedge', 213, 1, 6], ['pantry', 328, 1, 7]]"
            ]
          },
          "metadata": {},
          "execution_count": 1
        }
      ],
      "source": [
        "#postion of a word in a dictionary\n",
        "list_pos = [\n",
        "    ['drawer', 141, 2, 3],\n",
        "    ['hedge', 213, 1, 6],\n",
        "    ['pantry', 328, 1, 7]\n",
        "]\n",
        "\n",
        "list_pos"
      ]
    },
    {
      "cell_type": "code",
      "source": [
        "# Solution\n",
        "# Traditional loops\n",
        "\n",
        "output = {}\n",
        "for item in list_pos:\n",
        "  output[item[0]] = item[1:]\n",
        "\n",
        "print(output)"
      ],
      "metadata": {
        "id": "s2cCUs6PWCtf",
        "colab": {
          "base_uri": "https://localhost:8080/"
        },
        "outputId": "a442ec7f-06e8-445c-f2ba-e5fd5cf155a4"
      },
      "execution_count": null,
      "outputs": [
        {
          "output_type": "stream",
          "name": "stdout",
          "text": [
            "{'drawer': [141, 2, 3], 'hedge': [213, 1, 6], 'pantry': [328, 1, 7]}\n"
          ]
        }
      ]
    },
    {
      "cell_type": "code",
      "source": [
        "# List comprehenshions\n",
        "list_print = {item[0]: item[1:] for item in list_pos}\n",
        "list_print"
      ],
      "metadata": {
        "colab": {
          "base_uri": "https://localhost:8080/"
        },
        "id": "uxG2rYHjr1i1",
        "outputId": "138e7d4c-9707-450a-e9db-f8c41e006f2f"
      },
      "execution_count": null,
      "outputs": [
        {
          "output_type": "execute_result",
          "data": {
            "text/plain": [
              "{'drawer': [141, 2, 3], 'hedge': [213, 1, 6], 'pantry': [328, 1, 7]}"
            ]
          },
          "metadata": {},
          "execution_count": 11
        }
      ]
    },
    {
      "cell_type": "markdown",
      "source": [
        "**Ques 2:** You are given the dictionary below, combine the keys(the words) and the values inside the dictionary and create a list.\n",
        "\n",
        "You output should be:\n",
        "\n",
        "\n",
        "\n",
        "```\n",
        "dictionary_pos = {\n",
        "    'drawer': [141, 2, 3],\n",
        "    'hedge': [213, 1, 6],\n",
        "    'pantry': [328, 1, 7]\n",
        "}\n",
        "\n",
        "dictionary_pos\n",
        "\n",
        "# Your output should:\n",
        "\n",
        "[['drawer', 141, 2, 3], ['hedge', 213, 1, 6], ['pantry', 328, 1, 7]]\n",
        "```\n",
        "\n",
        "Requirement: Do both traditional loops and list comprehensions."
      ],
      "metadata": {
        "id": "kPV7FgpUHdt-"
      }
    },
    {
      "cell_type": "code",
      "execution_count": null,
      "metadata": {
        "id": "VL-scbyryTgJ",
        "colab": {
          "base_uri": "https://localhost:8080/"
        },
        "outputId": "571701c5-ae44-4ad9-bf9f-6a3c5b3fab25"
      },
      "outputs": [
        {
          "output_type": "execute_result",
          "data": {
            "text/plain": [
              "{'drawer': [141, 2, 3], 'hedge': [213, 1, 6], 'pantry': [328, 1, 7]}"
            ]
          },
          "metadata": {},
          "execution_count": 13
        }
      ],
      "source": [
        "#Your turn:\n",
        "#postion of a word in a dictionary\n",
        "dictionary_pos = {\n",
        "    'drawer': [141, 2, 3],\n",
        "    'hedge': [213, 1, 6],\n",
        "    'pantry': [328, 1, 7]\n",
        "}\n",
        "\n",
        "dictionary_pos"
      ]
    },
    {
      "cell_type": "code",
      "execution_count": null,
      "metadata": {
        "id": "KfZIsa9DyTgK",
        "colab": {
          "base_uri": "https://localhost:8080/"
        },
        "outputId": "259711ff-ca3e-46aa-f225-3d54c2ce4418"
      },
      "outputs": [
        {
          "output_type": "execute_result",
          "data": {
            "text/plain": [
              "[('drawer', [141, 2, 3]), ('hedge', [213, 1, 6]), ('pantry', [328, 1, 7])]"
            ]
          },
          "metadata": {},
          "execution_count": 22
        }
      ],
      "source": [
        "# Solution\n",
        "# Traditional loops\n",
        "temp = []\n",
        "for i in dictionary_pos.items():\n",
        "  temp.append(i)\n",
        "\n",
        "temp"
      ]
    },
    {
      "cell_type": "code",
      "source": [
        "# list comprehensions\n",
        "list_print_2 = [i for i in dictionary_pos.items()]\n",
        "list_print_2"
      ],
      "metadata": {
        "colab": {
          "base_uri": "https://localhost:8080/"
        },
        "id": "bNgH7cE-vhxw",
        "outputId": "ad2dfd02-45a9-4304-aebb-fcfe37dac17f"
      },
      "execution_count": null,
      "outputs": [
        {
          "output_type": "execute_result",
          "data": {
            "text/plain": [
              "[('drawer', [141, 2, 3]), ('hedge', [213, 1, 6]), ('pantry', [328, 1, 7])]"
            ]
          },
          "metadata": {},
          "execution_count": 24
        }
      ]
    },
    {
      "cell_type": "markdown",
      "source": [
        "**Ques 3:** Use list comprehension to rewrite the code, it can be done in one line (and you do not even need an if statement)\n",
        "\n",
        "```\n",
        "result = []\n",
        "myList = list(range(0, 13))\n",
        "for i in range(6, len(myList)):\n",
        "    if i%2 == 0:\n",
        "        result.append(i)\n",
        "\n",
        "result\n",
        "```\n",
        "\n"
      ],
      "metadata": {
        "id": "cvER6YXv4Id5"
      }
    },
    {
      "cell_type": "code",
      "execution_count": null,
      "metadata": {
        "id": "HGOnba_myTgM",
        "colab": {
          "base_uri": "https://localhost:8080/"
        },
        "outputId": "0c6d0928-f3a6-4e91-a243-9c0e4b41e971"
      },
      "outputs": [
        {
          "output_type": "execute_result",
          "data": {
            "text/plain": [
              "[6, 8, 10, 12]"
            ]
          },
          "metadata": {},
          "execution_count": 27
        }
      ],
      "source": [
        "#Your Code:\n",
        "mylist = [1, 2 , 3, 4, 5, 6, 7, 8, 9,10, 11, 12, 13]\n",
        "result_print = [i for i in range(6, len(mylist)) if i % 2 == 0]\n",
        "result_print"
      ]
    },
    {
      "cell_type": "markdown",
      "source": [
        "**Ques 4a:** Use the following code to perform the tasks given below:\n",
        "\n",
        "\n",
        "\n",
        "```\n",
        "set_a = {1, 2, 3, \"a\", \"b\", \"c\"}\n",
        "set_b = {2, 3, 4, \"c\", \"d\"}\n",
        "set_c = {2, 3, 'd', \"t\", \"a\"}\n",
        "```\n",
        "\n"
      ],
      "metadata": {
        "id": "H7IAbiwH4i-D"
      }
    },
    {
      "cell_type": "code",
      "execution_count": null,
      "metadata": {
        "id": "CvrNavspyTgN",
        "colab": {
          "base_uri": "https://localhost:8080/"
        },
        "outputId": "97835e09-c1ef-4b67-f2d2-cb8d2cefb670"
      },
      "outputs": [
        {
          "output_type": "execute_result",
          "data": {
            "text/plain": [
              "{4, 'd'}"
            ]
          },
          "metadata": {},
          "execution_count": 29
        }
      ],
      "source": [
        "# The follow code is supposed to return the different elements in both sets of union_ab and set_a but not both of them.\n",
        "set_a = {1, 2, 3, \"a\", \"b\", \"c\"}\n",
        "set_b = {2, 3, 4, \"c\", \"d\"}\n",
        "set_c = {2, 3, 'd', \"t\", \"a\"}\n",
        "\n",
        "union_ab = set_a | set_b\n",
        "set_a ^ union_ab"
      ]
    },
    {
      "cell_type": "code",
      "source": [
        "# Elements that occur just in set c and not in set a\n",
        "set_c - set_a"
      ],
      "metadata": {
        "colab": {
          "base_uri": "https://localhost:8080/"
        },
        "id": "iL4GrbZknT_y",
        "outputId": "86294b4d-8c25-4329-ccbd-7994d0e94178"
      },
      "execution_count": null,
      "outputs": [
        {
          "output_type": "execute_result",
          "data": {
            "text/plain": [
              "{'d', 't'}"
            ]
          },
          "metadata": {},
          "execution_count": 30
        }
      ]
    },
    {
      "cell_type": "markdown",
      "source": [
        "**Ques 4b:** This piece of code will work the same as which of the following options:\n",
        "\n",
        "\n",
        "```\n",
        "difference_A = []\n",
        "for a in set_c:\n",
        "  if(not(a in set_a)):\n",
        "    difference_A.append(a)\n",
        "\n",
        "print(difference_A)\n",
        "```\n",
        "\n"
      ],
      "metadata": {
        "id": "E7LmZQwT5Mhr"
      }
    },
    {
      "cell_type": "code",
      "execution_count": null,
      "metadata": {
        "id": "FvUCzqZuyTgN",
        "colab": {
          "base_uri": "https://localhost:8080/"
        },
        "outputId": "4252c3bf-c443-4bbe-ceb8-28291fdd9d79"
      },
      "outputs": [
        {
          "output_type": "execute_result",
          "data": {
            "text/plain": [
              "{'d', 't'}"
            ]
          },
          "metadata": {},
          "execution_count": 34
        }
      ],
      "source": [
        "#Rewrite the code:\n",
        "\n",
        "#A) difference = union_ab | set_a\n",
        "\n",
        "#B) difference = set_a - union_ab\n",
        "\n",
        "#C) difference = union_ab ^ set_a\n",
        "\n",
        "difference = set_c - set_a\n",
        "difference"
      ]
    },
    {
      "cell_type": "markdown",
      "metadata": {
        "id": "i1TTuNdgyTgO"
      },
      "source": [
        "**Ques 5:** A procedural function called GC_content(data).\n",
        "Find the GC percentage for each of the elements in dna_list.\n",
        "data is the list, dna_list."
      ]
    },
    {
      "cell_type": "code",
      "execution_count": null,
      "metadata": {
        "id": "awvBHjfFyTgO"
      },
      "outputs": [],
      "source": [
        "dna_list = ['GAAGTC', 'CGATATGC', 'GTCA', 'CGGACAGTAG']\n"
      ]
    },
    {
      "cell_type": "code",
      "execution_count": null,
      "metadata": {
        "id": "NL90n2TOyTgO",
        "colab": {
          "base_uri": "https://localhost:8080/"
        },
        "outputId": "6117bbd5-a514-4060-a718-d9179a75b3a8"
      },
      "outputs": [
        {
          "output_type": "stream",
          "name": "stdout",
          "text": [
            "GAAGTC: 50.0\n",
            "CGATATGC: 50.0\n",
            "GTCA: 50.0\n",
            "CGGACAGTAG: 60.0\n"
          ]
        }
      ],
      "source": [
        "def GC_content(data):\n",
        "  for dna in data:\n",
        "    count = dna.count('G') + dna.count('C')\n",
        "    percentage = (count / len(dna)) * 100\n",
        "    print(dna + ': ' + str(percentage))\n",
        "\n",
        "GC_content(dna_list)"
      ]
    }
  ],
  "metadata": {
    "hide_input": false,
    "kernelspec": {
      "display_name": "Python 3",
      "language": "python",
      "name": "python3"
    },
    "language_info": {
      "codemirror_mode": {
        "name": "ipython",
        "version": 3
      },
      "file_extension": ".py",
      "mimetype": "text/x-python",
      "name": "python",
      "nbconvert_exporter": "python",
      "pygments_lexer": "ipython3",
      "version": "3.8.3"
    },
    "toc": {
      "base_numbering": 1,
      "nav_menu": {},
      "number_sections": true,
      "sideBar": true,
      "skip_h1_title": false,
      "title_cell": "Table of Contents",
      "title_sidebar": "Contents",
      "toc_cell": false,
      "toc_position": {},
      "toc_section_display": true,
      "toc_window_display": false
    },
    "colab": {
      "provenance": []
    }
  },
  "nbformat": 4,
  "nbformat_minor": 0
}